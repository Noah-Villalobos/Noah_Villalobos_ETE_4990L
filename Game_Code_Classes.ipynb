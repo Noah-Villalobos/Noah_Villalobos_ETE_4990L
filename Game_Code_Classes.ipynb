{
 "cells": [
  {
   "cell_type": "code",
   "execution_count": 135,
   "id": "4065cc5e",
   "metadata": {},
   "outputs": [],
   "source": [
    "import random\n",
    "\n",
    "class CardType:\n",
    "    def __init__(self, card, effect):\n",
    "        self.card = card\n",
    "        self.effect = effect\n",
    "\n",
    "        \n",
    "class Attack(CardType):\n",
    "    def __init__(self, card, effect, damage):\n",
    "        super().__init__(card, effect)\n",
    "        self.damage = damage\n",
    "\n",
    "    def do_damage(self, target):\n",
    "        target.take_damage(self.damage)\n",
    "        print('You used an attack!')\n",
    "        \n",
    "        \n",
    "class Defense(CardType):\n",
    "    def __init__(self, card, effect, protection):\n",
    "        super().__init__(card, effect)\n",
    "        self.protection = protection\n",
    "\n",
    "    def protect(self, target):\n",
    "        target.get_protection(self.protection)\n",
    "        print(\"You used a shield!\")\n",
    "\n",
    "        \n",
    "class Rejuvinate(CardType):\n",
    "    def __init__(self, card, effect, healing):\n",
    "        super().__init__(card, effect)\n",
    "        self.healing = healing\n",
    "        \n",
    "    def heal(self, target):\n",
    "        target.get_healed(self.healing)\n",
    "        (\"You have been healed!\")\n",
    "\n",
    "        \n",
    "class Deck:\n",
    "    def __init__(self):\n",
    "        self.cards = []\n",
    "\n",
    "    def generate_deck(self):\n",
    "        deck_size = 10\n",
    "        for i in range(deck_size):\n",
    "            card_type = random.choice([Attack, Defense, Rejuvinate])\n",
    "            if card_type == Attack:\n",
    "                card = Attack\n",
    "            elif card_type == Defense:\n",
    "                card = Defense\n",
    "            else:\n",
    "                card = Rejuvinate\n",
    "            self.cards.append(card)\n",
    "            print(self.cards)\n",
    "    \n",
    "            \n",
    "class Hand:\n",
    "    def __init__(self):\n",
    "        self.cards = []\n",
    "        \n",
    "    def draw_hand(self):\n",
    "        hand_size = 5\n",
    "        for i in range(hand_size):\n",
    "            drawn_card = Deck.cards.pop(0)\n",
    "            self.cards.append(drawn_card)\n",
    "        print(Deck.cards)\n",
    "        print(self.cards)\n",
    "         \n",
    "            \n",
    "class Player:\n",
    "    def __init__(self, name, health):\n",
    "        self.name = name\n",
    "        self.health = health\n",
    "        self.old_health = health\n",
    "        self.protection = 0\n",
    "        \n",
    "    def take_damage(self, damage):\n",
    "        effective_damage = max(damage - self.protection, 0)  \n",
    "        new_health = self.health - effective_damage\n",
    "        if new_health < self.old_health:  \n",
    "            self.old_health = self.health  \n",
    "            self.health = max(new_health, 0)\n",
    "            if self.health <= 0: \n",
    "                print(Player.name, Player.health)\n",
    "                print('You are dead!')\n",
    "            else:\n",
    "                print(Player.name, Player.health)\n",
    "                print('You took damage!')\n",
    "        else:\n",
    "            print(Player.name, Player.health)\n",
    "            print('You have been protected!')\n",
    "        \n",
    "        \n",
    "    def get_protection(self, protection):\n",
    "        self.protection = max(protection, self.protection)\n",
    "        \n",
    "    def get_healed(self, healing):\n",
    "        self.health += healing\n",
    "        print(Player.name, Player.health)\n",
    "        print('You have been healed!')"
   ]
  },
  {
   "cell_type": "code",
   "execution_count": 136,
   "id": "f00f0567",
   "metadata": {},
   "outputs": [
    {
     "name": "stdout",
     "output_type": "stream",
     "text": [
      "\n",
      " 100\n"
     ]
    }
   ],
   "source": [
    "Player = Player(input(), 100)\n",
    "print(Player.name, Player.health)\n"
   ]
  },
  {
   "cell_type": "code",
   "execution_count": 137,
   "id": "6f8b4438",
   "metadata": {},
   "outputs": [],
   "source": [
    "Attack = Attack('Attack', 'do damage', 20)\n",
    "Defense = Defense('Shield', 'protect', 15)\n",
    "Rejuvinate = Rejuvinate('Revive', 'heal',5)\n",
    "Deck = Deck()\n",
    "Hand = Hand()\n",
    "DiscardPile = DiscardPile()"
   ]
  },
  {
   "cell_type": "code",
   "execution_count": null,
   "id": "59632a6d",
   "metadata": {},
   "outputs": [],
   "source": [
    "\n"
   ]
  }
 ],
 "metadata": {
  "kernelspec": {
   "display_name": "Python 3 (ipykernel)",
   "language": "python",
   "name": "python3"
  },
  "language_info": {
   "codemirror_mode": {
    "name": "ipython",
    "version": 3
   },
   "file_extension": ".py",
   "mimetype": "text/x-python",
   "name": "python",
   "nbconvert_exporter": "python",
   "pygments_lexer": "ipython3",
   "version": "3.11.5"
  }
 },
 "nbformat": 4,
 "nbformat_minor": 5
}
